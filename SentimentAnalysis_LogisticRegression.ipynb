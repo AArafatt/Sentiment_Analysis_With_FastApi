{
  "nbformat": 4,
  "nbformat_minor": 0,
  "metadata": {
    "colab": {
      "provenance": [],
      "gpuType": "T4"
    },
    "kernelspec": {
      "name": "python3",
      "display_name": "Python 3"
    },
    "language_info": {
      "name": "python"
    },
    "accelerator": "GPU"
  },
  "cells": [
    {
      "cell_type": "code",
      "source": [
        "from google.colab import drive\n",
        "drive.mount('/content/drive')"
      ],
      "metadata": {
        "colab": {
          "base_uri": "https://localhost:8080/"
        },
        "id": "Nkkyly2IIhnh",
        "outputId": "3066403e-2b78-42e5-a6a6-10fb5c4271bb"
      },
      "execution_count": 1,
      "outputs": [
        {
          "output_type": "stream",
          "name": "stdout",
          "text": [
            "Mounted at /content/drive\n"
          ]
        }
      ]
    },
    {
      "cell_type": "markdown",
      "source": [
        "# **Install Normalizer**"
      ],
      "metadata": {
        "id": "eblfWW91OG39"
      }
    },
    {
      "cell_type": "code",
      "source": [
        "!pip install git+https://github.com/csebuetnlp/normalizer"
      ],
      "metadata": {
        "colab": {
          "base_uri": "https://localhost:8080/"
        },
        "id": "16Z0rdlgIyZg",
        "outputId": "335e9f86-f44d-4247-dfd0-41d70c81b883"
      },
      "execution_count": 2,
      "outputs": [
        {
          "output_type": "stream",
          "name": "stdout",
          "text": [
            "Collecting git+https://github.com/csebuetnlp/normalizer\n",
            "  Cloning https://github.com/csebuetnlp/normalizer to /tmp/pip-req-build-oovkzc17\n",
            "  Running command git clone --filter=blob:none --quiet https://github.com/csebuetnlp/normalizer /tmp/pip-req-build-oovkzc17\n",
            "  Resolved https://github.com/csebuetnlp/normalizer to commit d405944dde5ceeacb7c2fd3245ae2a9dea5f35c9\n",
            "  Preparing metadata (setup.py) ... \u001b[?25l\u001b[?25hdone\n",
            "Requirement already satisfied: regex in /usr/local/lib/python3.11/dist-packages (from normalizer==0.0.1) (2024.11.6)\n",
            "Collecting emoji==1.4.2 (from normalizer==0.0.1)\n",
            "  Downloading emoji-1.4.2.tar.gz (184 kB)\n",
            "\u001b[2K     \u001b[90m━━━━━━━━━━━━━━━━━━━━━━━━━━━━━━━━━━━━━━━\u001b[0m \u001b[32m185.0/185.0 kB\u001b[0m \u001b[31m6.8 MB/s\u001b[0m eta \u001b[36m0:00:00\u001b[0m\n",
            "\u001b[?25h  Preparing metadata (setup.py) ... \u001b[?25l\u001b[?25hdone\n",
            "Collecting ftfy==6.0.3 (from normalizer==0.0.1)\n",
            "  Downloading ftfy-6.0.3.tar.gz (64 kB)\n",
            "\u001b[2K     \u001b[90m━━━━━━━━━━━━━━━━━━━━━━━━━━━━━━━━━━━━━━━━\u001b[0m \u001b[32m64.2/64.2 kB\u001b[0m \u001b[31m7.0 MB/s\u001b[0m eta \u001b[36m0:00:00\u001b[0m\n",
            "\u001b[?25h  Preparing metadata (setup.py) ... \u001b[?25l\u001b[?25hdone\n",
            "Requirement already satisfied: wcwidth in /usr/local/lib/python3.11/dist-packages (from ftfy==6.0.3->normalizer==0.0.1) (0.2.13)\n",
            "Building wheels for collected packages: normalizer, emoji, ftfy\n",
            "  Building wheel for normalizer (setup.py) ... \u001b[?25l\u001b[?25hdone\n",
            "  Created wheel for normalizer: filename=normalizer-0.0.1-py3-none-any.whl size=6860 sha256=b7c883e65f133579a0b6859a63073ec6bd00c44e2411b1bbf6827de5fe67f1d3\n",
            "  Stored in directory: /tmp/pip-ephem-wheel-cache-_z32tmuq/wheels/9a/af/fc/4c056274507dc80328a36c6ee1b71d78d6473edb0c1f5edc3e\n",
            "  Building wheel for emoji (setup.py) ... \u001b[?25l\u001b[?25hdone\n",
            "  Created wheel for emoji: filename=emoji-1.4.2-py3-none-any.whl size=186456 sha256=6332e85a3f36e71ee9393074d27fcc7a7e996ae1dce4c06887b5917b0819d505\n",
            "  Stored in directory: /root/.cache/pip/wheels/94/08/b4/78657b1541bb704b088317b52429ee4016d9888fe47dbb130f\n",
            "  Building wheel for ftfy (setup.py) ... \u001b[?25l\u001b[?25hdone\n",
            "  Created wheel for ftfy: filename=ftfy-6.0.3-py3-none-any.whl size=41929 sha256=a2fe513445dc471729bf9d5c5ca27607401f7b711d20046c4950e2d30e507e15\n",
            "  Stored in directory: /root/.cache/pip/wheels/69/c5/02/f19deeac47b79fd0d2f85a2668d84a46a5811ded119451463e\n",
            "Successfully built normalizer emoji ftfy\n",
            "Installing collected packages: emoji, ftfy, normalizer\n",
            "Successfully installed emoji-1.4.2 ftfy-6.0.3 normalizer-0.0.1\n"
          ]
        }
      ]
    },
    {
      "cell_type": "markdown",
      "source": [
        "# **import necessary libraries**"
      ],
      "metadata": {
        "id": "WmwssErKONiA"
      }
    },
    {
      "cell_type": "code",
      "execution_count": 8,
      "metadata": {
        "id": "-w0zT40eHfNx"
      },
      "outputs": [],
      "source": [
        "import pandas as pd\n",
        "import numpy as np\n",
        "import re\n",
        "import matplotlib.pyplot as plt\n",
        "import seaborn as sns\n",
        "from sklearn.model_selection import train_test_split\n",
        "from sklearn.preprocessing import LabelEncoder\n",
        "from sklearn.feature_extraction.text import TfidfVectorizer\n",
        "from sklearn.linear_model import LogisticRegression\n",
        "from sklearn.metrics import classification_report, confusion_matrix\n",
        "from sklearn.utils import resample\n",
        "from normalizer import normalize"
      ]
    },
    {
      "cell_type": "markdown",
      "source": [
        "# **Dataset Loading**"
      ],
      "metadata": {
        "id": "G42-mxSCOS2K"
      }
    },
    {
      "cell_type": "code",
      "source": [
        "# Load dataset\n",
        "DATA_DIR = \"/content/drive/MyDrive/dataset\"\n",
        "train_df = pd.read_csv(f\"{DATA_DIR}/dataset.csv\")"
      ],
      "metadata": {
        "id": "bMNYxl3SHytL"
      },
      "execution_count": 9,
      "outputs": []
    },
    {
      "cell_type": "markdown",
      "source": [
        "# **Display Few Sample**"
      ],
      "metadata": {
        "id": "x5lQYGUnOXPU"
      }
    },
    {
      "cell_type": "code",
      "source": [
        "train_df.head()"
      ],
      "metadata": {
        "colab": {
          "base_uri": "https://localhost:8080/",
          "height": 206
        },
        "id": "MW4SZb3GKhRz",
        "outputId": "c426fcca-ae2c-47ae-c285-0e1dcf3d5333"
      },
      "execution_count": 10,
      "outputs": [
        {
          "output_type": "execute_result",
          "data": {
            "text/plain": [
              "                                             comment    Category  Gender  \\\n",
              "0  ওই হালার পুত এখন কি মদ খাওয়ার সময় রাতের বেলা...       Actor  Female   \n",
              "1  ঘরে বসে শুট করতে কেমন লেগেছে? ক্যামেরাতে কে ছি...      Singer    Male   \n",
              "2                       অরে বাবা, এই টা কোন পাগল????       Actor  Female   \n",
              "3                              ক্যাপ্টেন অফ বাংলাদেশ      Sports    Male   \n",
              "4                                           পটকা মাছ  Politician    Male   \n",
              "\n",
              "   comment react number      label  \n",
              "0                   1.0     sexual  \n",
              "1                   2.0  not bully  \n",
              "2                   2.0  not bully  \n",
              "3                   0.0  not bully  \n",
              "4                   0.0      troll  "
            ],
            "text/html": [
              "\n",
              "  <div id=\"df-92c883a2-6cc6-4c87-91de-8349c4c9a15c\" class=\"colab-df-container\">\n",
              "    <div>\n",
              "<style scoped>\n",
              "    .dataframe tbody tr th:only-of-type {\n",
              "        vertical-align: middle;\n",
              "    }\n",
              "\n",
              "    .dataframe tbody tr th {\n",
              "        vertical-align: top;\n",
              "    }\n",
              "\n",
              "    .dataframe thead th {\n",
              "        text-align: right;\n",
              "    }\n",
              "</style>\n",
              "<table border=\"1\" class=\"dataframe\">\n",
              "  <thead>\n",
              "    <tr style=\"text-align: right;\">\n",
              "      <th></th>\n",
              "      <th>comment</th>\n",
              "      <th>Category</th>\n",
              "      <th>Gender</th>\n",
              "      <th>comment react number</th>\n",
              "      <th>label</th>\n",
              "    </tr>\n",
              "  </thead>\n",
              "  <tbody>\n",
              "    <tr>\n",
              "      <th>0</th>\n",
              "      <td>ওই হালার পুত এখন কি মদ খাওয়ার সময় রাতের বেলা...</td>\n",
              "      <td>Actor</td>\n",
              "      <td>Female</td>\n",
              "      <td>1.0</td>\n",
              "      <td>sexual</td>\n",
              "    </tr>\n",
              "    <tr>\n",
              "      <th>1</th>\n",
              "      <td>ঘরে বসে শুট করতে কেমন লেগেছে? ক্যামেরাতে কে ছি...</td>\n",
              "      <td>Singer</td>\n",
              "      <td>Male</td>\n",
              "      <td>2.0</td>\n",
              "      <td>not bully</td>\n",
              "    </tr>\n",
              "    <tr>\n",
              "      <th>2</th>\n",
              "      <td>অরে বাবা, এই টা কোন পাগল????</td>\n",
              "      <td>Actor</td>\n",
              "      <td>Female</td>\n",
              "      <td>2.0</td>\n",
              "      <td>not bully</td>\n",
              "    </tr>\n",
              "    <tr>\n",
              "      <th>3</th>\n",
              "      <td>ক্যাপ্টেন অফ বাংলাদেশ</td>\n",
              "      <td>Sports</td>\n",
              "      <td>Male</td>\n",
              "      <td>0.0</td>\n",
              "      <td>not bully</td>\n",
              "    </tr>\n",
              "    <tr>\n",
              "      <th>4</th>\n",
              "      <td>পটকা মাছ</td>\n",
              "      <td>Politician</td>\n",
              "      <td>Male</td>\n",
              "      <td>0.0</td>\n",
              "      <td>troll</td>\n",
              "    </tr>\n",
              "  </tbody>\n",
              "</table>\n",
              "</div>\n",
              "    <div class=\"colab-df-buttons\">\n",
              "\n",
              "  <div class=\"colab-df-container\">\n",
              "    <button class=\"colab-df-convert\" onclick=\"convertToInteractive('df-92c883a2-6cc6-4c87-91de-8349c4c9a15c')\"\n",
              "            title=\"Convert this dataframe to an interactive table.\"\n",
              "            style=\"display:none;\">\n",
              "\n",
              "  <svg xmlns=\"http://www.w3.org/2000/svg\" height=\"24px\" viewBox=\"0 -960 960 960\">\n",
              "    <path d=\"M120-120v-720h720v720H120Zm60-500h600v-160H180v160Zm220 220h160v-160H400v160Zm0 220h160v-160H400v160ZM180-400h160v-160H180v160Zm440 0h160v-160H620v160ZM180-180h160v-160H180v160Zm440 0h160v-160H620v160Z\"/>\n",
              "  </svg>\n",
              "    </button>\n",
              "\n",
              "  <style>\n",
              "    .colab-df-container {\n",
              "      display:flex;\n",
              "      gap: 12px;\n",
              "    }\n",
              "\n",
              "    .colab-df-convert {\n",
              "      background-color: #E8F0FE;\n",
              "      border: none;\n",
              "      border-radius: 50%;\n",
              "      cursor: pointer;\n",
              "      display: none;\n",
              "      fill: #1967D2;\n",
              "      height: 32px;\n",
              "      padding: 0 0 0 0;\n",
              "      width: 32px;\n",
              "    }\n",
              "\n",
              "    .colab-df-convert:hover {\n",
              "      background-color: #E2EBFA;\n",
              "      box-shadow: 0px 1px 2px rgba(60, 64, 67, 0.3), 0px 1px 3px 1px rgba(60, 64, 67, 0.15);\n",
              "      fill: #174EA6;\n",
              "    }\n",
              "\n",
              "    .colab-df-buttons div {\n",
              "      margin-bottom: 4px;\n",
              "    }\n",
              "\n",
              "    [theme=dark] .colab-df-convert {\n",
              "      background-color: #3B4455;\n",
              "      fill: #D2E3FC;\n",
              "    }\n",
              "\n",
              "    [theme=dark] .colab-df-convert:hover {\n",
              "      background-color: #434B5C;\n",
              "      box-shadow: 0px 1px 3px 1px rgba(0, 0, 0, 0.15);\n",
              "      filter: drop-shadow(0px 1px 2px rgba(0, 0, 0, 0.3));\n",
              "      fill: #FFFFFF;\n",
              "    }\n",
              "  </style>\n",
              "\n",
              "    <script>\n",
              "      const buttonEl =\n",
              "        document.querySelector('#df-92c883a2-6cc6-4c87-91de-8349c4c9a15c button.colab-df-convert');\n",
              "      buttonEl.style.display =\n",
              "        google.colab.kernel.accessAllowed ? 'block' : 'none';\n",
              "\n",
              "      async function convertToInteractive(key) {\n",
              "        const element = document.querySelector('#df-92c883a2-6cc6-4c87-91de-8349c4c9a15c');\n",
              "        const dataTable =\n",
              "          await google.colab.kernel.invokeFunction('convertToInteractive',\n",
              "                                                    [key], {});\n",
              "        if (!dataTable) return;\n",
              "\n",
              "        const docLinkHtml = 'Like what you see? Visit the ' +\n",
              "          '<a target=\"_blank\" href=https://colab.research.google.com/notebooks/data_table.ipynb>data table notebook</a>'\n",
              "          + ' to learn more about interactive tables.';\n",
              "        element.innerHTML = '';\n",
              "        dataTable['output_type'] = 'display_data';\n",
              "        await google.colab.output.renderOutput(dataTable, element);\n",
              "        const docLink = document.createElement('div');\n",
              "        docLink.innerHTML = docLinkHtml;\n",
              "        element.appendChild(docLink);\n",
              "      }\n",
              "    </script>\n",
              "  </div>\n",
              "\n",
              "\n",
              "    <div id=\"df-5c05612e-3b63-45c4-b19f-db448ed5f220\">\n",
              "      <button class=\"colab-df-quickchart\" onclick=\"quickchart('df-5c05612e-3b63-45c4-b19f-db448ed5f220')\"\n",
              "                title=\"Suggest charts\"\n",
              "                style=\"display:none;\">\n",
              "\n",
              "<svg xmlns=\"http://www.w3.org/2000/svg\" height=\"24px\"viewBox=\"0 0 24 24\"\n",
              "     width=\"24px\">\n",
              "    <g>\n",
              "        <path d=\"M19 3H5c-1.1 0-2 .9-2 2v14c0 1.1.9 2 2 2h14c1.1 0 2-.9 2-2V5c0-1.1-.9-2-2-2zM9 17H7v-7h2v7zm4 0h-2V7h2v10zm4 0h-2v-4h2v4z\"/>\n",
              "    </g>\n",
              "</svg>\n",
              "      </button>\n",
              "\n",
              "<style>\n",
              "  .colab-df-quickchart {\n",
              "      --bg-color: #E8F0FE;\n",
              "      --fill-color: #1967D2;\n",
              "      --hover-bg-color: #E2EBFA;\n",
              "      --hover-fill-color: #174EA6;\n",
              "      --disabled-fill-color: #AAA;\n",
              "      --disabled-bg-color: #DDD;\n",
              "  }\n",
              "\n",
              "  [theme=dark] .colab-df-quickchart {\n",
              "      --bg-color: #3B4455;\n",
              "      --fill-color: #D2E3FC;\n",
              "      --hover-bg-color: #434B5C;\n",
              "      --hover-fill-color: #FFFFFF;\n",
              "      --disabled-bg-color: #3B4455;\n",
              "      --disabled-fill-color: #666;\n",
              "  }\n",
              "\n",
              "  .colab-df-quickchart {\n",
              "    background-color: var(--bg-color);\n",
              "    border: none;\n",
              "    border-radius: 50%;\n",
              "    cursor: pointer;\n",
              "    display: none;\n",
              "    fill: var(--fill-color);\n",
              "    height: 32px;\n",
              "    padding: 0;\n",
              "    width: 32px;\n",
              "  }\n",
              "\n",
              "  .colab-df-quickchart:hover {\n",
              "    background-color: var(--hover-bg-color);\n",
              "    box-shadow: 0 1px 2px rgba(60, 64, 67, 0.3), 0 1px 3px 1px rgba(60, 64, 67, 0.15);\n",
              "    fill: var(--button-hover-fill-color);\n",
              "  }\n",
              "\n",
              "  .colab-df-quickchart-complete:disabled,\n",
              "  .colab-df-quickchart-complete:disabled:hover {\n",
              "    background-color: var(--disabled-bg-color);\n",
              "    fill: var(--disabled-fill-color);\n",
              "    box-shadow: none;\n",
              "  }\n",
              "\n",
              "  .colab-df-spinner {\n",
              "    border: 2px solid var(--fill-color);\n",
              "    border-color: transparent;\n",
              "    border-bottom-color: var(--fill-color);\n",
              "    animation:\n",
              "      spin 1s steps(1) infinite;\n",
              "  }\n",
              "\n",
              "  @keyframes spin {\n",
              "    0% {\n",
              "      border-color: transparent;\n",
              "      border-bottom-color: var(--fill-color);\n",
              "      border-left-color: var(--fill-color);\n",
              "    }\n",
              "    20% {\n",
              "      border-color: transparent;\n",
              "      border-left-color: var(--fill-color);\n",
              "      border-top-color: var(--fill-color);\n",
              "    }\n",
              "    30% {\n",
              "      border-color: transparent;\n",
              "      border-left-color: var(--fill-color);\n",
              "      border-top-color: var(--fill-color);\n",
              "      border-right-color: var(--fill-color);\n",
              "    }\n",
              "    40% {\n",
              "      border-color: transparent;\n",
              "      border-right-color: var(--fill-color);\n",
              "      border-top-color: var(--fill-color);\n",
              "    }\n",
              "    60% {\n",
              "      border-color: transparent;\n",
              "      border-right-color: var(--fill-color);\n",
              "    }\n",
              "    80% {\n",
              "      border-color: transparent;\n",
              "      border-right-color: var(--fill-color);\n",
              "      border-bottom-color: var(--fill-color);\n",
              "    }\n",
              "    90% {\n",
              "      border-color: transparent;\n",
              "      border-bottom-color: var(--fill-color);\n",
              "    }\n",
              "  }\n",
              "</style>\n",
              "\n",
              "      <script>\n",
              "        async function quickchart(key) {\n",
              "          const quickchartButtonEl =\n",
              "            document.querySelector('#' + key + ' button');\n",
              "          quickchartButtonEl.disabled = true;  // To prevent multiple clicks.\n",
              "          quickchartButtonEl.classList.add('colab-df-spinner');\n",
              "          try {\n",
              "            const charts = await google.colab.kernel.invokeFunction(\n",
              "                'suggestCharts', [key], {});\n",
              "          } catch (error) {\n",
              "            console.error('Error during call to suggestCharts:', error);\n",
              "          }\n",
              "          quickchartButtonEl.classList.remove('colab-df-spinner');\n",
              "          quickchartButtonEl.classList.add('colab-df-quickchart-complete');\n",
              "        }\n",
              "        (() => {\n",
              "          let quickchartButtonEl =\n",
              "            document.querySelector('#df-5c05612e-3b63-45c4-b19f-db448ed5f220 button');\n",
              "          quickchartButtonEl.style.display =\n",
              "            google.colab.kernel.accessAllowed ? 'block' : 'none';\n",
              "        })();\n",
              "      </script>\n",
              "    </div>\n",
              "\n",
              "    </div>\n",
              "  </div>\n"
            ],
            "application/vnd.google.colaboratory.intrinsic+json": {
              "type": "dataframe",
              "variable_name": "train_df",
              "summary": "{\n  \"name\": \"train_df\",\n  \"rows\": 44001,\n  \"fields\": [\n    {\n      \"column\": \"comment\",\n      \"properties\": {\n        \"dtype\": \"string\",\n        \"num_unique_values\": 43567,\n        \"samples\": [\n          \"\\u09a4\\u09c7\\u09be\\u09b0 \\u09ac\\u09be\\u09aa \\u09af\\u09c7 \\u09a4\\u09c7\\u09be\\u09b0\\u09c7 \\u099c\\u09a8\\u09cd\\u09ae \\u09a6\\u09bf\\u099b\\u09c7 \\u09b8\\u09c7\\u099f\\u09be \\u0995\\u09bf \\u09a4\\u09c1\\u0987 \\u09a6\\u09c7\\u0996\\u099b\\u09c7\\u09be\\u09b8.......\\u09b8\\u09c7\\u09b9\\u09c7\\u09a4\\u09c1 \\u09a4\\u09c1\\u0987 \\u09a6\\u09c7\\u0996\\u09c7\\u09be\\u09b8 \\u09a8\\u09be\\u0987 ...\\u09a4\\u09be\\u09b9\\u09b2\\u09c7 \\u09a4\\u09c7\\u09be\\u09b0 \\u098f\\u0987 \\u09ac\\u09be\\u09aa \\u09a4\\u09c7\\u09be\\u09b0 \\u0986\\u09b8\\u09b2 \\u09ac\\u09be\\u09aa \\u09a8\\u09be....\\u09a4\\u09be\\u0987 \\u098f\\u09b0 \\u09ae\\u09be\\u09a8\\u09c7 \\u09a6\\u09be\\u09dc\\u09be\\u09b2\\u09cb \\u09a4\\u09c1\\u0987 \\u099c\\u09be\\u09b0\\u099c \\u09b8\\u09a8\\u09cd\\u09a4\\u09be\\u09a8....\\u09a4\\u09c7\\u09be\\u09b0 \\u099c\\u09a8\\u09cd\\u09ae \\u0995\\u09a8\\u09a1\\u09ae \\u09b0\\u09cd\\u09a6\\u09c2\\u0998\\u099f\\u09a8\\u09be\\u09df....\",\n          \"\\u098f\\u09b8\\u09ac \\u0995\\u09c1\\u09b2\\u09be\\u0999\\u09cd\\u0997\\u09be\\u09b0\\u09a6\\u09c7\\u09b0 \\u099c\\u09a8\\u09cd\\u09af\\u0987 \\u0986\\u099c\\u0995\\u09be\\u09b2 \\u09af\\u09a4 \\u09a6\\u09c1\\u09b0\\u09cd\\u09af\\u09cb\\u0997 \\u0986\\u09b0 \\u09a6\\u09c1\\u09b0\\u09cd\\u09ad\\u09cb\\u0997\",\n          \"\\u0986\\u09b2\\u09cd\\u09b2\\u09be\\u09b9 \\u09ac\\u09b2\\u09c7 \\u09a6\\u09bf\\u09df\\u09c7\\u099b\\u09c7\\u09a8,, \\u0986\\u09b0\\u09ac \\u099c\\u09be\\u09a4\\u09bf \\u098f\\u0995\\u09a6\\u09bf\\u09a8 \\u0985\\u09a8\\u09c7\\u0995 \\u09ac\\u09dc\\u09b2\\u09cb\\u0995 \\u09b9\\u09ac\\u09c7, \\u09a4\\u09be\\u09b0\\u09be \\u099c\\u09c0\\u09a8\\u09be \\u09ac\\u09cd\\u09af\\u09be\\u09ad\\u09bf\\u099a\\u09be\\u09b0\\u09c7 \\u09b2\\u09bf\\u09aa\\u09cd\\u09a4 \\u09b9\\u09ac\\u09c7, \\u0986\\u0995\\u09be\\u09b6\\u099a\\u09c1\\u09ae\\u09cd\\u09ac\\u09bf \\u09a6\\u09be\\u09b2\\u09be\\u09a8 \\u09ac\\u09be\\u09a8\\u09be\\u09ac\\u09c7, \\u0987\\u09b9\\u09c1\\u09a6\\u09c0\\u09b0\\u09be \\u09a5\\u09be\\u09b0\\u09cd\\u09a1 \\u099f\\u09cd\\u09af\\u09be\\u09ae\\u09cd\\u09aa\\u09b2 \\u09ac\\u09be\\u09a8\\u09be\\u09ac\\u09c7, \\u09ae\\u09b9\\u09bf\\u09b2\\u09be\\u09a6\\u09c7\\u09b0 \\u09ac\\u09bf\\u0995\\u09cd\\u09b0\\u09df\\u0995\\u09b0\\u09cd\\u09ae\\u09c0 \\u09ac\\u09be\\u09a8\\u09bf\\u09df\\u09c7 \\u0995\\u09cd\\u09b0\\u09c7\\u09a4\\u09be \\u0986\\u0995\\u09b0\\u09cd\\u09b7\\u09a8 \\u0995\\u09b0\\u09be \\u09b9\\u09ac\\u09c7\\u0964 \\u098f\\u09b8\\u09ac \\u0995\\u09bf\\u09a8\\u09cd\\u09a4\\u09c1 \\u0986\\u09b2\\u09cd\\u09b2\\u09be\\u09b9 \\u09b9\\u09be\\u099c\\u09be\\u09b0 \\u09ac\\u099b\\u09b0 \\u0986\\u0997\\u09c7\\u0987 \\u09ac\\u09b2\\u09c7 \\u09a6\\u09bf\\u09df\\u09c7\\u099b\\u09bf\\u09b2\\u09c7\\u09a8\\u0964 \\u09af\\u09be \\u098f\\u0996\\u09a8 \\u09aa\\u09cd\\u09b0\\u09ae\\u09be\\u09a8\\u09bf\\u09a4 \\u09b9\\u09df\\u0964 \\u098f\\u09b8\\u09ac \\u099c\\u09bf\\u09a8\\u09bf\\u09b8 \\u0995\\u09cb\\u09a8 \\u09a7\\u09b0\\u09cd\\u09ae \\u09a4\\u09c7 \\u0986\\u0997\\u09c7\\u0987 \\u09ac\\u09b2\\u09be \\u0986\\u099b\\u09c7 \\u0986\\u09ae\\u09bf \\u099c\\u09be\\u09a8\\u09bf \\u09a8\\u09be\\u0964 \\u0995\\u09bf\\u09a8\\u09cd\\u09a4\\u09c1 \\u098f\\u0997\\u09c1\\u09b2\\u09cb \\u09a6\\u09c7\\u0996\\u09be\\u09b0 \\u09aa\\u09b0\\u09c7\\u0993 \\u09af\\u09be\\u09a6\\u09c7\\u09b0 \\u099a\\u09cb\\u0996 \\u0996\\u09cb\\u09b2\\u09c7 \\u09a8\\u09be \\u09a4\\u09be\\u09b0\\u09be \\u09a4\\u09cb \\u09ac\\u09dc\\u0987 \\u09ae\\u09c2\\u09b0\\u09cd\\u0996\\u0964\\u0995\\u09be\\u09b0\\u09a8 \\u0986\\u09b2\\u09cd\\u09b2\\u09be\\u09b9 \\u09ac\\u09b2\\u09c7\\u099b\\u09c7\\u09a8, \\u0995\\u09c1\\u09b0\\u0986\\u09a8 \\u09b6\\u09b0\\u09c0\\u09ab \\u09a4\\u09bf\\u09a8\\u09bf \\u0995\\u09bf\\u09df\\u09be\\u09ae\\u09a4\\u09c7\\u09b0 \\u0986\\u0997 \\u09aa\\u09b0\\u09cd\\u09af\\u09a8\\u09cd\\u09a4 \\u09ac\\u09b2\\u09ac\\u09a4 \\u09b0\\u09be\\u0996\\u09ac\\u09c7\\u09a8\\u0964 \\u0987\\u09b8\\u09b2\\u09be\\u09ae\\u09c7 \\u09ea\\u099f\\u09be \\u09ac\\u09bf\\u09df\\u09c7 \\u0995\\u09b0\\u09a4\\u09c7 \\u09ac\\u09b2\\u09be \\u0986\\u099b\\u09c7 \\u09af\\u09be\\u09a4\\u09c7 \\u09a8\\u099c\\u09b0 \\u09a8\\u09bf\\u099a\\u09c1 \\u09b9\\u09df\\u0964 \\u09aa\\u09b0\\u09a8\\u09be\\u09b0\\u09c0\\u09b0 \\u09a6\\u09bf\\u0995\\u09c7 \\u09a4\\u09be\\u0995\\u09be\\u09a4\\u09c7 \\u09a8\\u09be \\u09b9\\u09df\\u0964 \\u09aa\\u09b0\\u0995\\u09c0\\u09df\\u09be \\u0995\\u09b0\\u09a4\\u09c7 \\u09ac\\u09b2\\u09be \\u09b9\\u09df\\u09a8\\u09bf \\u09a4\\u09cb! \\u098f\\u0995\\u099f\\u09be \\u0985\\u09ac\\u09c8\\u09a7 \\u09b8\\u09ae\\u09cd\\u09aa\\u09b0\\u09cd\\u0995\\u09c7\\u09b0 \\u099a\\u09c7\\u09df\\u09c7 \\u09ea\\u099f\\u09be \\u09ac\\u09c8\\u09a7 \\u09b8\\u09ae\\u09cd\\u09aa\\u09b0\\u09cd\\u0995 \\u0985\\u09a8\\u09c7\\u0995 \\u09ad\\u09be\\u09b2\\u09cb\\u0964\"\n        ],\n        \"semantic_type\": \"\",\n        \"description\": \"\"\n      }\n    },\n    {\n      \"column\": \"Category\",\n      \"properties\": {\n        \"dtype\": \"category\",\n        \"num_unique_values\": 5,\n        \"samples\": [\n          \"Singer\",\n          \"Social\",\n          \"Sports\"\n        ],\n        \"semantic_type\": \"\",\n        \"description\": \"\"\n      }\n    },\n    {\n      \"column\": \"Gender\",\n      \"properties\": {\n        \"dtype\": \"category\",\n        \"num_unique_values\": 2,\n        \"samples\": [\n          \"Male\",\n          \"Female\"\n        ],\n        \"semantic_type\": \"\",\n        \"description\": \"\"\n      }\n    },\n    {\n      \"column\": \"comment react number\",\n      \"properties\": {\n        \"dtype\": \"number\",\n        \"std\": 6.671492115197327,\n        \"min\": 0.0,\n        \"max\": 428.0,\n        \"num_unique_values\": 114,\n        \"samples\": [\n          91.0,\n          4.0\n        ],\n        \"semantic_type\": \"\",\n        \"description\": \"\"\n      }\n    },\n    {\n      \"column\": \"label\",\n      \"properties\": {\n        \"dtype\": \"category\",\n        \"num_unique_values\": 5,\n        \"samples\": [\n          \"not bully\",\n          \"threat\"\n        ],\n        \"semantic_type\": \"\",\n        \"description\": \"\"\n      }\n    }\n  ]\n}"
            }
          },
          "metadata": {},
          "execution_count": 10
        }
      ]
    },
    {
      "cell_type": "markdown",
      "source": [
        "# **Rename Columns(optional)**"
      ],
      "metadata": {
        "id": "KLRls2pmOdBv"
      }
    },
    {
      "cell_type": "code",
      "source": [
        "# Rename columns\n",
        "train_df.rename(columns={\n",
        "    'comment': 'text',\n",
        "    'Category': 'category',\n",
        "    'Gender': 'gender',\n",
        "    'comment react number': 'react_count',\n",
        "    'label': 'label'\n",
        "}, inplace=True)\n"
      ],
      "metadata": {
        "id": "Z1Awg-dXMDrp"
      },
      "execution_count": 11,
      "outputs": []
    },
    {
      "cell_type": "markdown",
      "source": [
        "# **Drop Null and Duplicate Values**"
      ],
      "metadata": {
        "id": "Lz_axnj7Ojeq"
      }
    },
    {
      "cell_type": "code",
      "source": [
        "# Drop NA and duplicates\n",
        "train_df.dropna(subset=['text', 'label'], inplace=True)\n",
        "train_df.drop_duplicates(subset='text', inplace=True)"
      ],
      "metadata": {
        "id": "iDCDgCZJI_9-"
      },
      "execution_count": 12,
      "outputs": []
    },
    {
      "cell_type": "markdown",
      "source": [
        "# **label mapping**"
      ],
      "metadata": {
        "id": "M61Vh3ozOs8v"
      }
    },
    {
      "cell_type": "code",
      "source": [
        "# Encode labels\n",
        "label_map = {\n",
        "    \"sexual\":  0,\n",
        "    \"not bully\": 1,\n",
        "    \"troll\": 2,\n",
        "    \"religious\": 3,\n",
        "    \"threat\": 4\n",
        "}"
      ],
      "metadata": {
        "id": "T7fDgLgkI_8G"
      },
      "execution_count": 13,
      "outputs": []
    },
    {
      "cell_type": "code",
      "source": [
        "train_df['label'] = train_df['label'].map(label_map)"
      ],
      "metadata": {
        "id": "gQN2EYOPI_52"
      },
      "execution_count": 14,
      "outputs": []
    },
    {
      "cell_type": "markdown",
      "source": [
        "# **Cleaning text**"
      ],
      "metadata": {
        "id": "boXMfAoGOw4w"
      }
    },
    {
      "cell_type": "code",
      "source": [
        "# Preprocessing function\n",
        "def clean_text(text):\n",
        "    text = str(text).strip()\n",
        "    text = normalize(text)\n",
        "    text = text.lower()\n",
        "    text = re.sub(r'http\\S+|@[\\w]+|#[\\w]+|[0-9০১২৩৪৫৬৭৮৯]+', ' ', text)\n",
        "    text = re.sub(r'[^\\u0980-\\u09FF\\s]', ' ', text)  # Keep Bangla chars\n",
        "    text = re.sub(r'\\s+', ' ', text)\n",
        "    return text.strip()\n",
        "\n",
        "train_df['clean_text'] = train_df['text'].apply(clean_text)"
      ],
      "metadata": {
        "id": "8DE7_1aMI_3W"
      },
      "execution_count": 15,
      "outputs": []
    },
    {
      "cell_type": "markdown",
      "source": [
        "# **Label Distribution**"
      ],
      "metadata": {
        "id": "igppZS6yO3Az"
      }
    },
    {
      "cell_type": "code",
      "source": [
        "# Label distribution before balancing\n",
        "plt.figure(figsize=(7, 4))\n",
        "sns.countplot(x='label', data=train_df, palette='viridis')\n",
        "plt.title(\"Class Distribution (Before Balancing)\")\n",
        "plt.xlabel(\"Label\")\n",
        "plt.ylabel(\"Count\")\n",
        "plt.tight_layout()\n",
        "plt.show()"
      ],
      "metadata": {
        "colab": {
          "base_uri": "https://localhost:8080/",
          "height": 494
        },
        "id": "XJcnZjVrNV23",
        "outputId": "34f7adb6-e4f3-4650-95ff-d1abad11a697"
      },
      "execution_count": 25,
      "outputs": [
        {
          "output_type": "stream",
          "name": "stderr",
          "text": [
            "<ipython-input-25-51e4973d1256>:3: FutureWarning: \n",
            "\n",
            "Passing `palette` without assigning `hue` is deprecated and will be removed in v0.14.0. Assign the `x` variable to `hue` and set `legend=False` for the same effect.\n",
            "\n",
            "  sns.countplot(x='label', data=train_df, palette='viridis')\n"
          ]
        },
        {
          "output_type": "display_data",
          "data": {
            "text/plain": [
              "<Figure size 700x400 with 1 Axes>"
            ],
            "image/png": "[encoded data removed]"
          },
          "metadata": {}
        }
      ]
    },
    {
      "cell_type": "markdown",
      "source": [
        "# **Comment length**"
      ],
      "metadata": {
        "id": "g9g9C8lgO8oG"
      }
    },
    {
      "cell_type": "code",
      "source": [
        "# Comment length distribution\n",
        "train_df['text_len'] = train_df['clean_text'].apply(lambda x: len(x.split()))\n",
        "plt.figure(figsize=(8, 4))\n",
        "plt.hist(train_df['text_len'], bins=50, color='skyblue', edgecolor='black')\n",
        "plt.title(\"Distribution of Comment Lengths\")\n",
        "plt.xlabel(\"Number of Words\")\n",
        "plt.ylabel(\"Frequency\")\n",
        "plt.tight_layout()\n",
        "plt.show()"
      ],
      "metadata": {
        "colab": {
          "base_uri": "https://localhost:8080/",
          "height": 407
        },
        "id": "jlwurG3mNZEY",
        "outputId": "68d7fe7e-ec87-4672-e643-810bd31bee4e"
      },
      "execution_count": 26,
      "outputs": [
        {
          "output_type": "display_data",
          "data": {
            "text/plain": [
              "<Figure size 800x400 with 1 Axes>"
            ],
            "image/png": "[encoded data removed]"
          },
          "metadata": {}
        }
      ]
    },
    {
      "cell_type": "code",
      "source": [
        "# Drop empty cleaned rows\n",
        "train_df = train_df[train_df['clean_text'].astype(bool)]"
      ],
      "metadata": {
        "id": "1VWs4hfSI_0u"
      },
      "execution_count": 16,
      "outputs": []
    },
    {
      "cell_type": "markdown",
      "source": [
        "# **Oversampling for balance dataset**"
      ],
      "metadata": {
        "id": "9kAWNl2UPBTA"
      }
    },
    {
      "cell_type": "code",
      "source": [
        "# Balance the data using oversampling\n",
        "max_count = train_df['label'].value_counts().max()\n",
        "balanced_df = pd.concat([\n",
        "    resample(group, replace=True, n_samples=max_count, random_state=42)\n",
        "    for _, group in train_df.groupby('label')\n",
        "]).sample(frac=1, random_state=42).reset_index(drop=True)"
      ],
      "metadata": {
        "id": "HPvMsBrnI_xu"
      },
      "execution_count": 17,
      "outputs": []
    },
    {
      "cell_type": "markdown",
      "source": [
        "# **Split Data**"
      ],
      "metadata": {
        "id": "9KJhLPv7PGfa"
      }
    },
    {
      "cell_type": "code",
      "source": [
        "#Train-Test Split\n",
        "X = balanced_df['clean_text']\n",
        "y = balanced_df['label']\n",
        "X_train, X_test, y_train, y_test = train_test_split(\n",
        "    X, y, test_size=0.2, stratify=y, random_state=42\n",
        ")"
      ],
      "metadata": {
        "id": "V6ePp-s3I_u-"
      },
      "execution_count": 19,
      "outputs": []
    },
    {
      "cell_type": "markdown",
      "source": [
        "# **Tf-IDF for convert into vector**"
      ],
      "metadata": {
        "id": "N0RuPXelPJoU"
      }
    },
    {
      "cell_type": "code",
      "source": [
        "# TF-IDF Vectorization\n",
        "vectorizer = TfidfVectorizer(max_features=5000, ngram_range=(1, 2))\n",
        "X_train_tfidf = vectorizer.fit_transform(X_train)\n",
        "X_test_tfidf = vectorizer.transform(X_test)"
      ],
      "metadata": {
        "id": "QXhD_6w1MfFt"
      },
      "execution_count": 20,
      "outputs": []
    },
    {
      "cell_type": "markdown",
      "source": [
        "# **Model Deployment**"
      ],
      "metadata": {
        "id": "wpas1scgPRh_"
      }
    },
    {
      "cell_type": "code",
      "source": [
        "# Logistic Regression Model\n",
        "clf = LogisticRegression(max_iter=300, class_weight='balanced')\n",
        "clf.fit(X_train_tfidf, y_train)"
      ],
      "metadata": {
        "colab": {
          "base_uri": "https://localhost:8080/",
          "height": 80
        },
        "id": "b3Mrc_ztMiVm",
        "outputId": "3d834ef3-65bf-4794-e656-8d33732ef967"
      },
      "execution_count": 21,
      "outputs": [
        {
          "output_type": "execute_result",
          "data": {
            "text/plain": [
              "LogisticRegression(class_weight='balanced', max_iter=300)"
            ],
            "text/html": [
              "<style>#sk-container-id-1 {\n",
              "  /* Definition of color scheme common for light and dark mode */\n",
              "  --sklearn-color-text: #000;\n",
              "  --sklearn-color-text-muted: #666;\n",
              "  --sklearn-color-line: gray;\n",
              "  /* Definition of color scheme for unfitted estimators */\n",
              "  --sklearn-color-unfitted-level-0: #fff5e6;\n",
              "  --sklearn-color-unfitted-level-1: #f6e4d2;\n",
              "  --sklearn-color-unfitted-level-2: #ffe0b3;\n",
              "  --sklearn-color-unfitted-level-3: chocolate;\n",
              "  /* Definition of color scheme for fitted estimators */\n",
              "  --sklearn-color-fitted-level-0: #f0f8ff;\n",
              "  --sklearn-color-fitted-level-1: #d4ebff;\n",
              "  --sklearn-color-fitted-level-2: #b3dbfd;\n",
              "  --sklearn-color-fitted-level-3: cornflowerblue;\n",
              "\n",
              "  /* Specific color for light theme */\n",
              "  --sklearn-color-text-on-default-background: var(--sg-text-color, var(--theme-code-foreground, var(--jp-content-font-color1, black)));\n",
              "  --sklearn-color-background: var(--sg-background-color, var(--theme-background, var(--jp-layout-color0, white)));\n",
              "  --sklearn-color-border-box: var(--sg-text-color, var(--theme-code-foreground, var(--jp-content-font-color1, black)));\n",
              "  --sklearn-color-icon: #696969;\n",
              "\n",
              "  @media (prefers-color-scheme: dark) {\n",
              "    /* Redefinition of color scheme for dark theme */\n",
              "    --sklearn-color-text-on-default-background: var(--sg-text-color, var(--theme-code-foreground, var(--jp-content-font-color1, white)));\n",
              "    --sklearn-color-background: var(--sg-background-color, var(--theme-background, var(--jp-layout-color0, #111)));\n",
              "    --sklearn-color-border-box: var(--sg-text-color, var(--theme-code-foreground, var(--jp-content-font-color1, white)));\n",
              "    --sklearn-color-icon: #878787;\n",
              "  }\n",
              "}\n",
              "\n",
              "#sk-container-id-1 {\n",
              "  color: var(--sklearn-color-text);\n",
              "}\n",
              "\n",
              "#sk-container-id-1 pre {\n",
              "  padding: 0;\n",
              "}\n",
              "\n",
              "#sk-container-id-1 input.sk-hidden--visually {\n",
              "  border: 0;\n",
              "  clip: rect(1px 1px 1px 1px);\n",
              "  clip: rect(1px, 1px, 1px, 1px);\n",
              "  height: 1px;\n",
              "  margin: -1px;\n",
              "  overflow: hidden;\n",
              "  padding: 0;\n",
              "  position: absolute;\n",
              "  width: 1px;\n",
              "}\n",
              "\n",
              "#sk-container-id-1 div.sk-dashed-wrapped {\n",
              "  border: 1px dashed var(--sklearn-color-line);\n",
              "  margin: 0 0.4em 0.5em 0.4em;\n",
              "  box-sizing: border-box;\n",
              "  padding-bottom: 0.4em;\n",
              "  background-color: var(--sklearn-color-background);\n",
              "}\n",
              "\n",
              "#sk-container-id-1 div.sk-container {\n",
              "  /* jupyter's `normalize.less` sets `[hidden] { display: none; }`\n",
              "     but bootstrap.min.css set `[hidden] { display: none !important; }`\n",
              "     so we also need the `!important` here to be able to override the\n",
              "     default hidden behavior on the sphinx rendered scikit-learn.org.\n",
              "     See: https://github.com/scikit-learn/scikit-learn/issues/21755 */\n",
              "  display: inline-block !important;\n",
              "  position: relative;\n",
              "}\n",
              "\n",
              "#sk-container-id-1 div.sk-text-repr-fallback {\n",
              "  display: none;\n",
              "}\n",
              "\n",
              "div.sk-parallel-item,\n",
              "div.sk-serial,\n",
              "div.sk-item {\n",
              "  /* draw centered vertical line to link estimators */\n",
              "  background-image: linear-gradient(var(--sklearn-color-text-on-default-background), var(--sklearn-color-text-on-default-background));\n",
              "  background-size: 2px 100%;\n",
              "  background-repeat: no-repeat;\n",
              "  background-position: center center;\n",
              "}\n",
              "\n",
              "/* Parallel-specific style estimator block */\n",
              "\n",
              "#sk-container-id-1 div.sk-parallel-item::after {\n",
              "  content: \"\";\n",
              "  width: 100%;\n",
              "  border-bottom: 2px solid var(--sklearn-color-text-on-default-background);\n",
              "  flex-grow: 1;\n",
              "}\n",
              "\n",
              "#sk-container-id-1 div.sk-parallel {\n",
              "  display: flex;\n",
              "  align-items: stretch;\n",
              "  justify-content: center;\n",
              "  background-color: var(--sklearn-color-background);\n",
              "  position: relative;\n",
              "}\n",
              "\n",
              "#sk-container-id-1 div.sk-parallel-item {\n",
              "  display: flex;\n",
              "  flex-direction: column;\n",
              "}\n",
              "\n",
              "#sk-container-id-1 div.sk-parallel-item:first-child::after {\n",
              "  align-self: flex-end;\n",
              "  width: 50%;\n",
              "}\n",
              "\n",
              "#sk-container-id-1 div.sk-parallel-item:last-child::after {\n",
              "  align-self: flex-start;\n",
              "  width: 50%;\n",
              "}\n",
              "\n",
              "#sk-container-id-1 div.sk-parallel-item:only-child::after {\n",
              "  width: 0;\n",
              "}\n",
              "\n",
              "/* Serial-specific style estimator block */\n",
              "\n",
              "#sk-container-id-1 div.sk-serial {\n",
              "  display: flex;\n",
              "  flex-direction: column;\n",
              "  align-items: center;\n",
              "  background-color: var(--sklearn-color-background);\n",
              "  padding-right: 1em;\n",
              "  padding-left: 1em;\n",
              "}\n",
              "\n",
              "\n",
              "/* Toggleable style: style used for estimator/Pipeline/ColumnTransformer box that is\n",
              "clickable and can be expanded/collapsed.\n",
              "- Pipeline and ColumnTransformer use this feature and define the default style\n",
              "- Estimators will overwrite some part of the style using the `sk-estimator` class\n",
              "*/\n",
              "\n",
              "/* Pipeline and ColumnTransformer style (default) */\n",
              "\n",
              "#sk-container-id-1 div.sk-toggleable {\n",
              "  /* Default theme specific background. It is overwritten whether we have a\n",
              "  specific estimator or a Pipeline/ColumnTransformer */\n",
              "  background-color: var(--sklearn-color-background);\n",
              "}\n",
              "\n",
              "/* Toggleable label */\n",
              "#sk-container-id-1 label.sk-toggleable__label {\n",
              "  cursor: pointer;\n",
              "  display: flex;\n",
              "  width: 100%;\n",
              "  margin-bottom: 0;\n",
              "  padding: 0.5em;\n",
              "  box-sizing: border-box;\n",
              "  text-align: center;\n",
              "  align-items: start;\n",
              "  justify-content: space-between;\n",
              "  gap: 0.5em;\n",
              "}\n",
              "\n",
              "#sk-container-id-1 label.sk-toggleable__label .caption {\n",
              "  font-size: 0.6rem;\n",
              "  font-weight: lighter;\n",
              "  color: var(--sklearn-color-text-muted);\n",
              "}\n",
              "\n",
              "#sk-container-id-1 label.sk-toggleable__label-arrow:before {\n",
              "  /* Arrow on the left of the label */\n",
              "  content: \"▸\";\n",
              "  float: left;\n",
              "  margin-right: 0.25em;\n",
              "  color: var(--sklearn-color-icon);\n",
              "}\n",
              "\n",
              "#sk-container-id-1 label.sk-toggleable__label-arrow:hover:before {\n",
              "  color: var(--sklearn-color-text);\n",
              "}\n",
              "\n",
              "/* Toggleable content - dropdown */\n",
              "\n",
              "#sk-container-id-1 div.sk-toggleable__content {\n",
              "  max-height: 0;\n",
              "  max-width: 0;\n",
              "  overflow: hidden;\n",
              "  text-align: left;\n",
              "  /* unfitted */\n",
              "  background-color: var(--sklearn-color-unfitted-level-0);\n",
              "}\n",
              "\n",
              "#sk-container-id-1 div.sk-toggleable__content.fitted {\n",
              "  /* fitted */\n",
              "  background-color: var(--sklearn-color-fitted-level-0);\n",
              "}\n",
              "\n",
              "#sk-container-id-1 div.sk-toggleable__content pre {\n",
              "  margin: 0.2em;\n",
              "  border-radius: 0.25em;\n",
              "  color: var(--sklearn-color-text);\n",
              "  /* unfitted */\n",
              "  background-color: var(--sklearn-color-unfitted-level-0);\n",
              "}\n",
              "\n",
              "#sk-container-id-1 div.sk-toggleable__content.fitted pre {\n",
              "  /* unfitted */\n",
              "  background-color: var(--sklearn-color-fitted-level-0);\n",
              "}\n",
              "\n",
              "#sk-container-id-1 input.sk-toggleable__control:checked~div.sk-toggleable__content {\n",
              "  /* Expand drop-down */\n",
              "  max-height: 200px;\n",
              "  max-width: 100%;\n",
              "  overflow: auto;\n",
              "}\n",
              "\n",
              "#sk-container-id-1 input.sk-toggleable__control:checked~label.sk-toggleable__label-arrow:before {\n",
              "  content: \"▾\";\n",
              "}\n",
              "\n",
              "/* Pipeline/ColumnTransformer-specific style */\n",
              "\n",
              "#sk-container-id-1 div.sk-label input.sk-toggleable__control:checked~label.sk-toggleable__label {\n",
              "  color: var(--sklearn-color-text);\n",
              "  background-color: var(--sklearn-color-unfitted-level-2);\n",
              "}\n",
              "\n",
              "#sk-container-id-1 div.sk-label.fitted input.sk-toggleable__control:checked~label.sk-toggleable__label {\n",
              "  background-color: var(--sklearn-color-fitted-level-2);\n",
              "}\n",
              "\n",
              "/* Estimator-specific style */\n",
              "\n",
              "/* Colorize estimator box */\n",
              "#sk-container-id-1 div.sk-estimator input.sk-toggleable__control:checked~label.sk-toggleable__label {\n",
              "  /* unfitted */\n",
              "  background-color: var(--sklearn-color-unfitted-level-2);\n",
              "}\n",
              "\n",
              "#sk-container-id-1 div.sk-estimator.fitted input.sk-toggleable__control:checked~label.sk-toggleable__label {\n",
              "  /* fitted */\n",
              "  background-color: var(--sklearn-color-fitted-level-2);\n",
              "}\n",
              "\n",
              "#sk-container-id-1 div.sk-label label.sk-toggleable__label,\n",
              "#sk-container-id-1 div.sk-label label {\n",
              "  /* The background is the default theme color */\n",
              "  color: var(--sklearn-color-text-on-default-background);\n",
              "}\n",
              "\n",
              "/* On hover, darken the color of the background */\n",
              "#sk-container-id-1 div.sk-label:hover label.sk-toggleable__label {\n",
              "  color: var(--sklearn-color-text);\n",
              "  background-color: var(--sklearn-color-unfitted-level-2);\n",
              "}\n",
              "\n",
              "/* Label box, darken color on hover, fitted */\n",
              "#sk-container-id-1 div.sk-label.fitted:hover label.sk-toggleable__label.fitted {\n",
              "  color: var(--sklearn-color-text);\n",
              "  background-color: var(--sklearn-color-fitted-level-2);\n",
              "}\n",
              "\n",
              "/* Estimator label */\n",
              "\n",
              "#sk-container-id-1 div.sk-label label {\n",
              "  font-family: monospace;\n",
              "  font-weight: bold;\n",
              "  display: inline-block;\n",
              "  line-height: 1.2em;\n",
              "}\n",
              "\n",
              "#sk-container-id-1 div.sk-label-container {\n",
              "  text-align: center;\n",
              "}\n",
              "\n",
              "/* Estimator-specific */\n",
              "#sk-container-id-1 div.sk-estimator {\n",
              "  font-family: monospace;\n",
              "  border: 1px dotted var(--sklearn-color-border-box);\n",
              "  border-radius: 0.25em;\n",
              "  box-sizing: border-box;\n",
              "  margin-bottom: 0.5em;\n",
              "  /* unfitted */\n",
              "  background-color: var(--sklearn-color-unfitted-level-0);\n",
              "}\n",
              "\n",
              "#sk-container-id-1 div.sk-estimator.fitted {\n",
              "  /* fitted */\n",
              "  background-color: var(--sklearn-color-fitted-level-0);\n",
              "}\n",
              "\n",
              "/* on hover */\n",
              "#sk-container-id-1 div.sk-estimator:hover {\n",
              "  /* unfitted */\n",
              "  background-color: var(--sklearn-color-unfitted-level-2);\n",
              "}\n",
              "\n",
              "#sk-container-id-1 div.sk-estimator.fitted:hover {\n",
              "  /* fitted */\n",
              "  background-color: var(--sklearn-color-fitted-level-2);\n",
              "}\n",
              "\n",
              "/* Specification for estimator info (e.g. \"i\" and \"?\") */\n",
              "\n",
              "/* Common style for \"i\" and \"?\" */\n",
              "\n",
              ".sk-estimator-doc-link,\n",
              "a:link.sk-estimator-doc-link,\n",
              "a:visited.sk-estimator-doc-link {\n",
              "  float: right;\n",
              "  font-size: smaller;\n",
              "  line-height: 1em;\n",
              "  font-family: monospace;\n",
              "  background-color: var(--sklearn-color-background);\n",
              "  border-radius: 1em;\n",
              "  height: 1em;\n",
              "  width: 1em;\n",
              "  text-decoration: none !important;\n",
              "  margin-left: 0.5em;\n",
              "  text-align: center;\n",
              "  /* unfitted */\n",
              "  border: var(--sklearn-color-unfitted-level-1) 1pt solid;\n",
              "  color: var(--sklearn-color-unfitted-level-1);\n",
              "}\n",
              "\n",
              ".sk-estimator-doc-link.fitted,\n",
              "a:link.sk-estimator-doc-link.fitted,\n",
              "a:visited.sk-estimator-doc-link.fitted {\n",
              "  /* fitted */\n",
              "  border: var(--sklearn-color-fitted-level-1) 1pt solid;\n",
              "  color: var(--sklearn-color-fitted-level-1);\n",
              "}\n",
              "\n",
              "/* On hover */\n",
              "div.sk-estimator:hover .sk-estimator-doc-link:hover,\n",
              ".sk-estimator-doc-link:hover,\n",
              "div.sk-label-container:hover .sk-estimator-doc-link:hover,\n",
              ".sk-estimator-doc-link:hover {\n",
              "  /* unfitted */\n",
              "  background-color: var(--sklearn-color-unfitted-level-3);\n",
              "  color: var(--sklearn-color-background);\n",
              "  text-decoration: none;\n",
              "}\n",
              "\n",
              "div.sk-estimator.fitted:hover .sk-estimator-doc-link.fitted:hover,\n",
              ".sk-estimator-doc-link.fitted:hover,\n",
              "div.sk-label-container:hover .sk-estimator-doc-link.fitted:hover,\n",
              ".sk-estimator-doc-link.fitted:hover {\n",
              "  /* fitted */\n",
              "  background-color: var(--sklearn-color-fitted-level-3);\n",
              "  color: var(--sklearn-color-background);\n",
              "  text-decoration: none;\n",
              "}\n",
              "\n",
              "/* Span, style for the box shown on hovering the info icon */\n",
              ".sk-estimator-doc-link span {\n",
              "  display: none;\n",
              "  z-index: 9999;\n",
              "  position: relative;\n",
              "  font-weight: normal;\n",
              "  right: .2ex;\n",
              "  padding: .5ex;\n",
              "  margin: .5ex;\n",
              "  width: min-content;\n",
              "  min-width: 20ex;\n",
              "  max-width: 50ex;\n",
              "  color: var(--sklearn-color-text);\n",
              "  box-shadow: 2pt 2pt 4pt #999;\n",
              "  /* unfitted */\n",
              "  background: var(--sklearn-color-unfitted-level-0);\n",
              "  border: .5pt solid var(--sklearn-color-unfitted-level-3);\n",
              "}\n",
              "\n",
              ".sk-estimator-doc-link.fitted span {\n",
              "  /* fitted */\n",
              "  background: var(--sklearn-color-fitted-level-0);\n",
              "  border: var(--sklearn-color-fitted-level-3);\n",
              "}\n",
              "\n",
              ".sk-estimator-doc-link:hover span {\n",
              "  display: block;\n",
              "}\n",
              "\n",
              "/* \"?\"-specific style due to the `<a>` HTML tag */\n",
              "\n",
              "#sk-container-id-1 a.estimator_doc_link {\n",
              "  float: right;\n",
              "  font-size: 1rem;\n",
              "  line-height: 1em;\n",
              "  font-family: monospace;\n",
              "  background-color: var(--sklearn-color-background);\n",
              "  border-radius: 1rem;\n",
              "  height: 1rem;\n",
              "  width: 1rem;\n",
              "  text-decoration: none;\n",
              "  /* unfitted */\n",
              "  color: var(--sklearn-color-unfitted-level-1);\n",
              "  border: var(--sklearn-color-unfitted-level-1) 1pt solid;\n",
              "}\n",
              "\n",
              "#sk-container-id-1 a.estimator_doc_link.fitted {\n",
              "  /* fitted */\n",
              "  border: var(--sklearn-color-fitted-level-1) 1pt solid;\n",
              "  color: var(--sklearn-color-fitted-level-1);\n",
              "}\n",
              "\n",
              "/* On hover */\n",
              "#sk-container-id-1 a.estimator_doc_link:hover {\n",
              "  /* unfitted */\n",
              "  background-color: var(--sklearn-color-unfitted-level-3);\n",
              "  color: var(--sklearn-color-background);\n",
              "  text-decoration: none;\n",
              "}\n",
              "\n",
              "#sk-container-id-1 a.estimator_doc_link.fitted:hover {\n",
              "  /* fitted */\n",
              "  background-color: var(--sklearn-color-fitted-level-3);\n",
              "}\n",
              "</style><div id=\"sk-container-id-1\" class=\"sk-top-container\"><div class=\"sk-text-repr-fallback\"><pre>LogisticRegression(class_weight=&#x27;balanced&#x27;, max_iter=300)</pre><b>In a Jupyter environment, please rerun this cell to show the HTML representation or trust the notebook. <br />On GitHub, the HTML representation is unable to render, please try loading this page with nbviewer.org.</b></div><div class=\"sk-container\" hidden><div class=\"sk-item\"><div class=\"sk-estimator fitted sk-toggleable\"><input class=\"sk-toggleable__control sk-hidden--visually\" id=\"sk-estimator-id-1\" type=\"checkbox\" checked><label for=\"sk-estimator-id-1\" class=\"sk-toggleable__label fitted sk-toggleable__label-arrow\"><div><div>LogisticRegression</div></div><div><a class=\"sk-estimator-doc-link fitted\" rel=\"noreferrer\" target=\"_blank\" href=\"https://scikit-learn.org/1.6/modules/generated/sklearn.linear_model.LogisticRegression.html\">?<span>Documentation for LogisticRegression</span></a><span class=\"sk-estimator-doc-link fitted\">i<span>Fitted</span></span></div></label><div class=\"sk-toggleable__content fitted\"><pre>LogisticRegression(class_weight=&#x27;balanced&#x27;, max_iter=300)</pre></div> </div></div></div></div>"
            ]
          },
          "metadata": {},
          "execution_count": 21
        }
      ]
    },
    {
      "cell_type": "code",
      "source": [
        "# Predictions\n",
        "y_pred = clf.predict(X_test_tfidf)"
      ],
      "metadata": {
        "id": "gFZ5K0bFMlE4"
      },
      "execution_count": 22,
      "outputs": []
    },
    {
      "cell_type": "markdown",
      "source": [
        "# **Model Evaluation**"
      ],
      "metadata": {
        "id": "u62p1CVKPdLl"
      }
    },
    {
      "cell_type": "code",
      "source": [
        "print(\"Classification Report:\\n\")\n",
        "print(classification_report(y_test, y_pred, target_names=label_map.keys()))"
      ],
      "metadata": {
        "colab": {
          "base_uri": "https://localhost:8080/"
        },
        "id": "-iwm8uJPMneJ",
        "outputId": "b27cdaf3-0afd-4abb-ba07-013c46874b2c"
      },
      "execution_count": 23,
      "outputs": [
        {
          "output_type": "stream",
          "name": "stdout",
          "text": [
            "Classification Report:\n",
            "\n",
            "              precision    recall  f1-score   support\n",
            "\n",
            "      sexual       0.60      0.54      0.57      3043\n",
            "   not bully       0.55      0.69      0.61      3042\n",
            "       troll       0.63      0.51      0.56      3043\n",
            "   religious       0.65      0.63      0.64      3043\n",
            "      threat       0.71      0.75      0.73      3043\n",
            "\n",
            "    accuracy                           0.62     15214\n",
            "   macro avg       0.63      0.62      0.62     15214\n",
            "weighted avg       0.63      0.62      0.62     15214\n",
            "\n"
          ]
        }
      ]
    },
    {
      "cell_type": "markdown",
      "source": [
        "# **Confusion matrix**"
      ],
      "metadata": {
        "id": "5RvkgYQsPgbO"
      }
    },
    {
      "cell_type": "code",
      "source": [
        "cm = confusion_matrix(y_test, y_pred)\n",
        "plt.figure(figsize=(8,6))\n",
        "sns.heatmap(cm, annot=True, fmt='d', cmap='Blues', xticklabels=label_map.keys(), yticklabels=label_map.keys())\n",
        "plt.xlabel('Predicted')\n",
        "plt.ylabel('True')\n",
        "plt.title('Confusion Matrix')\n",
        "plt.tight_layout()\n",
        "plt.show()"
      ],
      "metadata": {
        "colab": {
          "base_uri": "https://localhost:8080/",
          "height": 607
        },
        "id": "EQc2cYjCMrBa",
        "outputId": "9d18f68c-48fd-43d7-bb84-5935fe9c1a91"
      },
      "execution_count": 24,
      "outputs": [
        {
          "output_type": "display_data",
          "data": {
            "text/plain": [
              "<Figure size 800x600 with 2 Axes>"
            ],
            "image/png": "[encoded data removed]"
          },
          "metadata": {}
        }
      ]
    }
  ]
}